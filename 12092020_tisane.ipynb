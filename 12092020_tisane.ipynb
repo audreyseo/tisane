{
 "cells": [
  {
   "cell_type": "markdown",
   "metadata": {},
   "source": [
    "# Overview of current sys arch and capabilities\n",
    "\n",
    "#### Problem statement: Given a set of causal and correlational relationships (e.g., “IQ causes SAT scores”, “Age is associated with IQ”), infer possible statistical models for either explaining or predicting these relationships."
   ]
  },
  {
   "cell_type": "code",
   "execution_count": 1,
   "metadata": {},
   "outputs": [
    {
     "name": "stdout",
     "output_type": "stream",
     "text": [
      "Requirement already satisfied: networkx in /usr/local/lib/python3.7/site-packages (2.5)\r\n",
      "Requirement already satisfied: decorator>=4.3.0 in /usr/local/lib/python3.7/site-packages (from networkx) (4.3.0)\r\n"
     ]
    }
   ],
   "source": [
    "import sys\n",
    "!{sys.executable} -m pip install networkx\n",
    "\n",
    "import tisane as ts"
   ]
  },
  {
   "cell_type": "markdown",
   "metadata": {},
   "source": [
    "## Tisane API + Functionality\n",
    "The API allows end-users to specify their conceptual domain knowledge at a high-level. \n",
    "\n",
    "Note: We can change the API to be more functional or declarative. (e.g., intelligence.cause(test_score, analysis))."
   ]
  },
  {
   "cell_type": "code",
   "execution_count": 2,
   "metadata": {},
   "outputs": [],
   "source": [
    "# Start analysis by specifying a TASK\n",
    "# TASK can be: explanation or prediction\n",
    "analysis = ts.Tisane(task='explanation')"
   ]
  },
  {
   "cell_type": "code",
   "execution_count": 3,
   "metadata": {},
   "outputs": [],
   "source": [
    "# Concept declarations\n",
    "test_score = ts.Concept(\"Test Score\")\n",
    "intelligence = ts.Concept(\"Intelligence\")\n",
    "tutoring = ts.Concept(\"Tutoring\")\n",
    "\n",
    "# Relationship declarations\n",
    "analysis.addRelationship(intelligence, test_score, \"cause\")\n",
    "analysis.addRelationship(tutoring, test_score, \"cause\")\n",
    "analysis.addRelationship(intelligence, tutoring, \"correlate\")"
   ]
  },
  {
   "cell_type": "code",
   "execution_count": 4,
   "metadata": {},
   "outputs": [
    {
     "name": "stdout",
     "output_type": "stream",
     "text": [
      "Nodes: ['Intelligence', 'Test Score', 'Tutoring'] has 3 concepts. Edges: [('Intelligence', 'Test Score'), ('Intelligence', 'Tutoring'), ('Tutoring', 'Test Score')] has 3 relationships.\n"
     ]
    }
   ],
   "source": [
    "# This is the graph that is constructed above: \n",
    "print(analysis.getGraph())"
   ]
  },
  {
   "cell_type": "markdown",
   "metadata": {},
   "source": [
    "### Effects sets generation\n",
    "Given concept and relationship declarations, generate possible sets of effects for explaining the given concept. \n",
    "\n",
    "TODO: \n",
    "- provide API verbs for specifying study design and use study design info to generate effects (esp. interaction and mixed effects)"
   ]
  },
  {
   "cell_type": "code",
   "execution_count": 5,
   "metadata": {},
   "outputs": [
    {
     "name": "stdout",
     "output_type": "stream",
     "text": [
      "{frozenset({InteractionEffect(effect=()), MainEffect(effect=('Intelligence',))}), frozenset({MainEffect(effect=('Tutoring',)), InteractionEffect(effect=(('Intelligence', 'Tutoring'),))}), frozenset({MainEffect(effect=('Tutoring',)), InteractionEffect(effect=())}), frozenset({InteractionEffect(effect=(('Intelligence', 'Tutoring'),)), MainEffect(effect=())}), frozenset({InteractionEffect(effect=(('Intelligence', 'Tutoring'),)), MainEffect(effect=('Intelligence',))}), frozenset({MainEffect(effect=())}), frozenset({InteractionEffect(effect=(('Intelligence', 'Tutoring'),)), MainEffect(effect=('Tutoring', 'Intelligence'))}), frozenset({InteractionEffect(effect=()), MainEffect(effect=('Tutoring', 'Intelligence'))})}\n"
     ]
    }
   ],
   "source": [
    "# Generate set of main and interaction effects\n",
    "print(analysis.generate_effects_sets(test_score))\n",
    "# analysis.pretty_print_generate_effects_sets(test_score) # useful for debugging, buggy atm"
   ]
  },
  {
   "cell_type": "markdown",
   "metadata": {},
   "source": [
    "### Statistical model generation \n",
    "Given a set of conceptual specifications (i.e., concepts and relationships), generate possible statistical models (e.g., linear regression, logistic regression, etc.) for explanation/prediction \n",
    "\n",
    "Note: Does not necessarily require a collected dataset if an end-user can specify assertions. \n",
    "\n",
    "TODO: \n",
    "- provide some API calls to specify assertions about data properties that are used as constraints in solving for canddiate statistical models. "
   ]
  },
  {
   "cell_type": "code",
   "execution_count": 6,
   "metadata": {},
   "outputs": [],
   "source": [
    "# Specify data types\n",
    "test_score.specifyData(dtype=\"numeric\") # Score 0 - 100 \n",
    "intelligence.specifyData(dtype=\"numeric\") # IQ score \n",
    "tutoring.specifyData(dtype=\"nominal\", categories=[\"afterschool\", \"none\"])\n",
    "\n",
    "# If had a dataset, could also\n",
    "# test_score.addData(data=df['score'])"
   ]
  },
  {
   "cell_type": "code",
   "execution_count": 8,
   "metadata": {},
   "outputs": [
    {
     "data": {
      "text/plain": [
       "<tisane.smt.results.AllStatisticalResults at 0x1125e55c0>"
      ]
     },
     "execution_count": 8,
     "metadata": {},
     "output_type": "execute_result"
    }
   ],
   "source": [
    "# Explain or Predict\n",
    "analysis.explain(dv=test_score)\n",
    "# \"\"\"\" In progress (all rely on .explain())\n",
    "# analysis.explainWith(dv=test_score, ivs_to_include=[tutoring])\n",
    "# analysis.explainWithOnly(dv=test_score, ivs_to_include=[tutoring])\n",
    "# analysis.explainWithout(dv=test_score, ivs_to_include=[tutoring])\n",
    "# \"\"\"\"\n",
    "\n",
    "# \"\"\"\" Not yet implemented (all rely on .predict())\n",
    "# analysis.predict(dv=test_score)\n",
    "# analysis.predictWith(dv=test_score, ivs_to_include=[tutoring])\n",
    "# analysis.predictWithOnly(dv=test_score, ivs_to_include=[tutoring])\n",
    "# analysis.predictWithout(dv=test_score, ivs_to_include=[tutoring])\n",
    "# \"\"\"\""
   ]
  },
  {
   "cell_type": "code",
   "execution_count": 14,
   "metadata": {},
   "outputs": [
    {
     "name": "stdout",
     "output_type": "stream",
     "text": [
      "['Linear Regression', 'Logistic Regression']\n"
     ]
    }
   ],
   "source": [
    "# Get a set of valid statistical models back\n",
    "# STILL IN PROGRESS\n",
    "from tisane.smt.knowledge_base import KnowledgeBase, find_statistical_models\n",
    "ivs = [intelligence, tutoring]\n",
    "dvs = [test_score]\n",
    "valid_models = find_statistical_models(ivs=ivs, dvs=dvs)\n",
    "print(valid_models)\n",
    "# IVs can have incoming edges --> end-user can specify IVs, DV"
   ]
  },
  {
   "cell_type": "markdown",
   "metadata": {},
   "source": [
    "### TODO: Statistical model construction, execution\n",
    "\n",
    "Given sets of effects and candidate statisitcal models to implement, construct and execute the statistical models using each set of effects. \n",
    "\n",
    "Output: R scripts? "
   ]
  },
  {
   "cell_type": "code",
   "execution_count": null,
   "metadata": {},
   "outputs": [],
   "source": []
  }
 ],
 "metadata": {
  "kernelspec": {
   "display_name": "Python 3",
   "language": "python",
   "name": "python3"
  },
  "language_info": {
   "codemirror_mode": {
    "name": "ipython",
    "version": 3
   },
   "file_extension": ".py",
   "mimetype": "text/x-python",
   "name": "python",
   "nbconvert_exporter": "python",
   "pygments_lexer": "ipython3",
   "version": "3.7.0"
  }
 },
 "nbformat": 4,
 "nbformat_minor": 2
}
