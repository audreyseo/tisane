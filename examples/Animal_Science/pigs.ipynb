{
 "cells": [
  {
   "cell_type": "markdown",
   "id": "710a6691",
   "metadata": {},
   "source": [
    "# Example: Pigs\n",
    "In this example, we want to examine the effect of supplements on weight gain in pigs. We have 82 pigs, belonging to 22 litters.\n",
    "\n",
    "At the beginning of the study, the pigs are given either 0mg of vitamin E, 100mg of vitamin E, or 200mg of vitamin E. Additionally, the pigs are either give 0mg of copper, 35mg of copper, or 175mg of copper.\n",
    "\n",
    "Over 12 weeks, the pigs are weighed each week, and the amount that they eat is recorded."
   ]
  },
  {
   "cell_type": "code",
   "execution_count": null,
   "id": "ce11cce2",
   "metadata": {},
   "outputs": [],
   "source": [
    "import tisane as ts\n",
    "import pandas as pd"
   ]
  },
  {
   "cell_type": "markdown",
   "id": "5b506fa9",
   "metadata": {},
   "source": [
    "## Load the data"
   ]
  },
  {
   "cell_type": "code",
   "execution_count": null,
   "id": "a8aaa599",
   "metadata": {},
   "outputs": [],
   "source": [
    "df = pd.read_csv(\"pigs.csv\")"
   ]
  },
  {
   "cell_type": "markdown",
   "id": "6f3d3353",
   "metadata": {},
   "source": [
    "## Create observed variables\n",
    "\n",
    "First, we create an environmental variable using `tisane.SetUp`. The concept of time is somewhat outside of any other unit, so we create a variable for it using `tisane.SetUp` instead of `tisane.Unit`.\n",
    "\n",
    "There were **12** weeks in the study, so we note that `cardinality=12`."
   ]
  },
  {
   "cell_type": "code",
   "execution_count": 4,
   "id": "6add930f",
   "metadata": {},
   "outputs": [],
   "source": [
    "week = ts.SetUp(\"Time\", cardinality=12)"
   ]
  },
  {
   "cell_type": "markdown",
   "id": "3d86e414",
   "metadata": {},
   "source": [
    "Now, we add our variables for the pigs. Each pig is an individual, and it also has many attributes, so we create a variable `pig` using `tisane.Unit`.\n",
    "\n",
    "Additionally, there were **82** pigs in the study, so we have `cardinality=82`."
   ]
  },
  {
   "cell_type": "code",
   "execution_count": null,
   "id": "c53dc6bd",
   "metadata": {},
   "outputs": [],
   "source": [
    "pig = ts.Unit(\"Pig\", cardinality=82)  # 82 pigs"
   ]
  },
  {
   "cell_type": "markdown",
   "id": "673c0456",
   "metadata": {},
   "source": [
    "Pigs are also grouped into litters, which are another level, so we also create a `litter` unit. The 82 pigs were grouped in **22** litters."
   ]
  },
  {
   "cell_type": "code",
   "execution_count": null,
   "id": "02f020dc",
   "metadata": {},
   "outputs": [],
   "source": [
    "litter = ts.Unit(\"Litter\", cardinality=22)  # 22 litters"
   ]
  },
  {
   "cell_type": "markdown",
   "id": "aaeb821f",
   "metadata": {},
   "source": [
    "Now we add the attributes that were recorded for each pig. We can attach them to the `pig` unit using `pig.ordinal` and `pig.numeric`.\n",
    "\n",
    "Ordinals are categorical variables with an ordering to them. Here, there are two ordinals: `vitamin_e` and `copper`. Each pig got separate amounts of each vitamin and mineral."
   ]
  },
  {
   "cell_type": "code",
   "execution_count": null,
   "id": "4bd712d4",
   "metadata": {},
   "outputs": [],
   "source": [
    "# Each pig has 1 instance of an ordinal Evit measure\n",
    "vitamin_e = pig.ordinal(\n",
    "    \"Evit\", order=[\"Evit000\", \"Evit100\", \"Evit200\"], number_of_instances=1\n",
    ")\n",
    "# Each pig has 1 instance of an ordinal Cu measure\n",
    "copper = pig.ordinal(\"Cu\", order=[\"Cu000\", \"Cu035\", \"Cu175\"], number_of_instances=1)"
   ]
  },
  {
   "cell_type": "markdown",
   "id": "9540fd80",
   "metadata": {},
   "source": [
    "Numerics are either integers or floats, and aren't bounded. Here, the pig's `weight` and the amount of `feed` it consumes are measured each week. "
   ]
  },
  {
   "cell_type": "code",
   "execution_count": null,
   "id": "1c54bcbb",
   "metadata": {},
   "outputs": [],
   "source": [
    "# Each pig has for each value of week 1 instance of a numeric Weight measure\n",
    "# Also: Each pig has 1 instance of a Weight measure corresponding to each week\n",
    "weight = pig.numeric(\"Weight\", number_of_instances=week)\n",
    "# Each pig has for each value of week 1 instance of a numeric Feed consumption measure\n",
    "feed = pig.numeric(\"Feed consumption\", number_of_instances=week)"
   ]
  },
  {
   "cell_type": "markdown",
   "id": "0f0f43f8",
   "metadata": {},
   "source": [
    "## Conceptual and data measurement relationships\n",
    "\n",
    "Now that we have all of our variables, we can express further relationships between them.\n",
    "\n",
    "### Conceptual relationships\n",
    "\n",
    "We believe that the pigs should gain weight over time, so we express that time (`week`) causes `weight`."
   ]
  },
  {
   "cell_type": "code",
   "execution_count": 1,
   "id": "482ebeec",
   "metadata": {},
   "outputs": [
    {
     "name": "stdout",
     "output_type": "stream",
     "text": [
      "adding relationship <class 'tisane.variable.Has'>\n",
      "Adding\n",
      "adding relationship <class 'tisane.variable.Causes'>\n",
      "Adding\n",
      "adding relationship <class 'tisane.variable.Causes'>\n",
      "Adding\n",
      "adding relationship <class 'tisane.variable.Nests'>\n",
      "Adding\n",
      "adding relationship <class 'tisane.variable.Has'>\n",
      "Adding\n",
      "adding relationship <class 'tisane.variable.Has'>\n",
      "Adding\n",
      "adding relationship <class 'tisane.variable.Has'>\n",
      "Adding\n"
     ]
    },
    {
     "data": {
      "text/html": [
       "\n",
       "        <iframe\n",
       "            width=\"100%\"\n",
       "            height=\"650\"\n",
       "            src=\"http://127.0.0.1:8050/\"\n",
       "            frameborder=\"0\"\n",
       "            allowfullscreen\n",
       "        ></iframe>\n",
       "        "
      ],
      "text/plain": [
       "<IPython.lib.display.IFrame at 0x7f871604cf40>"
      ]
     },
     "metadata": {},
     "output_type": "display_data"
    },
    {
     "name": "stdout",
     "output_type": "stream",
     "text": [
      "read through {filename}\n",
      "Writing out path\n"
     ]
    }
   ],
   "source": [
    "week.causes(weight)\n"
   ]
  },
  {
   "cell_type": "markdown",
   "id": "e7fa60f1",
   "metadata": {},
   "source": [
    "### Data measurement relationships\n",
    "The pigs were also organized into litters, and we might expect that pigs in the same litter, sharing the same parents and genetics, will be more similar. So we add this relationship with `nests_within`."
   ]
  },
  {
   "cell_type": "code",
   "execution_count": null,
   "id": "1a4a1ba5",
   "metadata": {},
   "outputs": [],
   "source": [
    "pig.nests_within(litter)"
   ]
  },
  {
   "cell_type": "markdown",
   "id": "8f09cd3a",
   "metadata": {},
   "source": [
    "## Specify the study design\n",
    "\n",
    "We can construct our study design using `tisane.Design`. We want to show that `week`, our **i**ndependent **v**ariable predicts `weight`.\n",
    "\n",
    "We also attach the data we collected to the design."
   ]
  },
  {
   "cell_type": "code",
   "execution_count": null,
   "id": "2e572428",
   "metadata": {},
   "outputs": [],
   "source": [
    "design = ts.Design(dv=weight, ivs=[week]).assign_data(df)"
   ]
  },
  {
   "cell_type": "markdown",
   "id": "b54d4860",
   "metadata": {},
   "source": [
    "## Query Tisane to infer a statistical model\n",
    "\n",
    "Using the `design` specification, `tisane.infer_statistical_model_from_design` will find candidate statistical models to choose from. You can make your choices in the Tisane GUI, which will appear in the output of the following cell.\n",
    "\n",
    "(You can also launch the Tisane GUI in a regular browser window. Setting `jupyter=True` makes the GUI appear in the output of the cell.)"
   ]
  },
  {
   "cell_type": "code",
   "execution_count": null,
   "id": "60a8af42",
   "metadata": {},
   "outputs": [],
   "source": [
    "ts.infer_statistical_model_from_design(design=design, jupyter=True)"
   ]
  },
  {
   "cell_type": "markdown",
   "id": "4b961325",
   "metadata": {},
   "source": [
    "## Using the GUI\n",
    "Look through each of the tabs. The tabs allow you to add additional independent variables, if Tisane detected they might be useful, as well as add clustering. On the fourth tab, after you pick the data distribution and link function that best fits your data, you can click on the `Generate Code` button, which will output a Python script called `model.py`.\n",
    "\n",
    "## Import model.py\n",
    "\n",
    "The script `model.py` should be in this folder! You can import it:"
   ]
  },
  {
   "cell_type": "code",
   "execution_count": null,
   "id": "b400b886",
   "metadata": {},
   "outputs": [],
   "source": [
    "import model"
   ]
  },
  {
   "cell_type": "markdown",
   "id": "27a2ecf9",
   "metadata": {},
   "source": [
    "Note that if you re-generate the model in the GUI after you've already imported the model in the above cell, you will need to re-start the kernel by going to the main menu and choosing `Kernel > Restart`.\n",
    "\n",
    "## Fitting the model\n",
    "\n",
    "The function `model.fit_model` returns the fitted model, and also outputs statistics about the model's fit."
   ]
  },
  {
   "cell_type": "code",
   "execution_count": null,
   "id": "a4e316af",
   "metadata": {},
   "outputs": [],
   "source": [
    "m = model.fit_model()"
   ]
  },
  {
   "cell_type": "markdown",
   "id": "2e6b0810",
   "metadata": {},
   "source": [
    "## Plotting the residuals\n",
    "\n",
    "To create a residuals plot, use the function `model.show_model_diagnostics`."
   ]
  },
  {
   "cell_type": "code",
   "execution_count": null,
   "id": "2103fba2",
   "metadata": {},
   "outputs": [],
   "source": [
    "model.show_model_diagnostics(m)"
   ]
  }
 ],
 "metadata": {
  "kernelspec": {
   "display_name": "tisane2",
   "language": "python",
   "name": "tisane2"
  },
  "language_info": {
   "codemirror_mode": {
    "name": "ipython",
    "version": 3
   },
   "file_extension": ".py",
   "mimetype": "text/x-python",
   "name": "python",
   "nbconvert_exporter": "python",
   "pygments_lexer": "ipython3",
   "version": "3.8.2"
  }
 },
 "nbformat": 4,
 "nbformat_minor": 5
}
