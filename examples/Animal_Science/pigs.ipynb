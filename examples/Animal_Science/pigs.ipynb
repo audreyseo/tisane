{
 "cells": [
  {
   "cell_type": "code",
   "execution_count": 1,
   "id": "482ebeec",
   "metadata": {},
   "outputs": [
    {
     "name": "stdout",
     "output_type": "stream",
     "text": [
      "adding relationship <class 'tisane.variable.Has'>\n",
      "Adding\n",
      "adding relationship <class 'tisane.variable.Causes'>\n",
      "Adding\n",
      "adding relationship <class 'tisane.variable.Causes'>\n",
      "Adding\n",
      "adding relationship <class 'tisane.variable.Nests'>\n",
      "Adding\n",
      "adding relationship <class 'tisane.variable.Has'>\n",
      "Adding\n",
      "adding relationship <class 'tisane.variable.Has'>\n",
      "Adding\n",
      "adding relationship <class 'tisane.variable.Has'>\n",
      "Adding\n"
     ]
    },
    {
     "data": {
      "text/html": [
       "\n",
       "        <iframe\n",
       "            width=\"100%\"\n",
       "            height=\"650\"\n",
       "            src=\"http://127.0.0.1:8050/\"\n",
       "            frameborder=\"0\"\n",
       "            allowfullscreen\n",
       "        ></iframe>\n",
       "        "
      ],
      "text/plain": [
       "<IPython.lib.display.IFrame at 0x7f871604cf40>"
      ]
     },
     "metadata": {},
     "output_type": "display_data"
    },
    {
     "name": "stdout",
     "output_type": "stream",
     "text": [
      "read through {filename}\n",
      "Writing out path\n"
     ]
    }
   ],
   "source": [
    "import tisane as ts\n",
    "import pandas as pd\n",
    "import os\n",
    "\n",
    "df = pd.read_csv(\"pigs.csv\")\n",
    "\n",
    "## Initialize variables with data\n",
    "# Bind measures to units at the time of declaration\n",
    "week = ts.SetUp(\"Time\", cardinality=12)\n",
    "pig = ts.Unit(\"Pig\", cardinality=82)  # 82 pigs\n",
    "litter = ts.Unit(\"Litter\", cardinality=22)  # 22 litters\n",
    "# Each pig has 1 instance of an ordinal Evit measure\n",
    "vitamin_e = pig.ordinal(\n",
    "    \"Evit\", order=[\"Evit000\", \"Evit100\", \"Evit200\"], number_of_instances=1\n",
    ")\n",
    "# Each pig has 1 instance of an ordinal Cu measure\n",
    "copper = pig.ordinal(\"Cu\", order=[\"Cu000\", \"Cu035\", \"Cu175\"], number_of_instances=1)\n",
    "# Each pig has for each value of week 1 instance of a numeric Weight measure\n",
    "# Also: Each pig has 1 instance of a Weight measure corresponding to each week\n",
    "weight = pig.numeric(\"Weight\", number_of_instances=week)\n",
    "# Each pig has for each value of week 1 instance of a numeric Feed consumption measure\n",
    "feed = pig.numeric(\"Feed consumption\", number_of_instances=week)\n",
    "\n",
    "## Conceptual relationships\n",
    "week.causes(weight)\n",
    "\n",
    "## Data measurement relationships\n",
    "# Pigs are nested within litters\n",
    "pig.nests_within(litter)\n",
    "\n",
    "## Specify and execute query\n",
    "design = ts.Design(dv=weight, ivs=[week]).assign_data(df)\n",
    "\n",
    "ts.infer_statistical_model_from_design(design=design, jupyter=True)"
   ]
  },
  {
   "cell_type": "code",
   "execution_count": 3,
   "id": "3a664a09",
   "metadata": {},
   "outputs": [
    {
     "name": "stdout",
     "output_type": "stream",
     "text": [
      "Formula: Weight~Time+(1|Litter)+(1|Pig)+(1|Time)\n",
      "\n",
      "Family: gaussian\t Inference: parametric\n",
      "\n",
      "Number of observations: 861\t Groups: {'Pig': 72.0, 'Litter': 21.0, 'Time': 12.0}\n",
      "\n",
      "Log-likelihood: -2355.822 \t AIC: 4711.644\n",
      "\n",
      "Random effects:\n",
      "\n",
      "                 Name     Var    Std\n",
      "Pig       (Intercept)  31.315  5.596\n",
      "Litter    (Intercept)   9.528  3.087\n",
      "Time      (Intercept)   1.764  1.328\n",
      "Residual                9.757  3.124\n",
      "\n",
      "No random effect correlations specified\n",
      "\n",
      "Fixed effects:\n",
      "\n",
      "             Estimate  2.5_ci  97.5_ci     SE      DF  T-stat  P-val  Sig\n",
      "(Intercept)    15.686  13.195   18.177  1.271  27.926  12.342    0.0  ***\n",
      "Time            6.943   6.718    7.169  0.115  10.013  60.228    0.0  ***\n"
     ]
    }
   ],
   "source": [
    "\n",
    "# Tisane inferred the following statistical model based on this query:  {}\n",
    "\n",
    "import pandas as pd\n",
    "from pymer4.models import Lmer # supports Generalized linear models with or without mixed effects\n",
    "import rpy2.robjects.lib.ggplot2 as ggplot2 # for visualizing residual plots to diagnose model fit\n",
    "\n",
    "\n",
    "def createModel():\n",
    "    # Dataframe is stored in local file: data.csv\n",
    "    # You may want to replace the data path with an existing data file you already have.\n",
    "    # You may also set df equal to a pandas dataframe you are already working with. \n",
    "    df = pd.read_csv('pigs.csv') # Make sure that the data path is correct\n",
    "\n",
    "\n",
    "    model = Lmer(formula='Weight ~ Time + (1|Litter) + (1|Pig) + (1|Time)', family=\"gaussian\", data=df)\n",
    "    print(model.fit())\n",
    "    return model\n",
    "\n",
    "if __name__ == \"main\":\n",
    "    createModel()\n",
    "\n",
    "\n",
    "\n",
    "\n"
   ]
  },
  {
   "cell_type": "code",
   "execution_count": null,
   "id": "865bd353",
   "metadata": {},
   "outputs": [],
   "source": []
  }
 ],
 "metadata": {
  "kernelspec": {
   "display_name": "tisane2",
   "language": "python",
   "name": "tisane2"
  },
  "language_info": {
   "codemirror_mode": {
    "name": "ipython",
    "version": 3
   },
   "file_extension": ".py",
   "mimetype": "text/x-python",
   "name": "python",
   "nbconvert_exporter": "python",
   "pygments_lexer": "ipython3",
   "version": "3.8.2"
  }
 },
 "nbformat": 4,
 "nbformat_minor": 5
}
