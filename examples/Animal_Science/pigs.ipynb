{
 "cells": [
  {
   "cell_type": "markdown",
   "source": [
    "# Example: Pigs\n",
    "In this example, we want to examine the effect of supplements on weight gain in pigs. We have 82 pigs, belonging to 22 litters.\n",
    "\n",
    "At the beginning of the study, the pigs are given either 0mg of vitamin E, 100mg of vitamin E, or 200mg of vitamin E. Additionally, the pigs are either give 0mg of copper, 35mg of copper, or 175mg of copper.\n",
    "\n",
    "Over 12 weeks, the pigs are weighed each week, and the amount that they eat is recorded."
   ],
   "metadata": {}
  },
  {
   "cell_type": "code",
   "execution_count": null,
   "source": [
    "import tisane as ts\n",
    "import pandas as pd"
   ],
   "outputs": [],
   "metadata": {}
  },
  {
   "cell_type": "markdown",
   "source": [
    "## Load the data"
   ],
   "metadata": {}
  },
  {
   "cell_type": "code",
   "execution_count": null,
   "source": [
    "df = pd.read_csv(\"pigs.csv\")"
   ],
   "outputs": [],
   "metadata": {}
  },
  {
   "cell_type": "markdown",
   "source": [
    "## Create observed variables\n",
    "\n",
    "First, we create an environmental variable using `tisane.SetUp`. The concept of time is somewhat outside of any other unit, so we create a variable for it using `tisane.SetUp` instead of `tisane.Unit`.\n",
    "\n",
    "There were **12** weeks in the study. The weeks are ordered, so we note the order of weeks `order=[1, 2, 3, 4, 5, 6, 7, 8, 9, 10, 11, 12]` and that `cardinality=12`."
   ],
   "metadata": {}
  },
  {
   "cell_type": "code",
   "execution_count": 4,
   "source": [
    "week = ts.SetUp(\"Time\", order=[1, 2, 3, 4, 5, 6, 7, 8, 9, 10, 11, 12], cardinality=12)"
   ],
   "outputs": [],
   "metadata": {}
  },
  {
   "cell_type": "markdown",
   "source": [
    "Now, we add our variables for the pigs. Each pig is an individual, and it also has many attributes, so we create a variable `pig` using `tisane.Unit`.\n",
    "\n",
    "Additionally, there were **82** pigs in the study, so we have `cardinality=82`."
   ],
   "metadata": {}
  },
  {
   "cell_type": "code",
   "execution_count": null,
   "source": [
    "pig = ts.Unit(\"Pig\", cardinality=82)  # 82 pigs"
   ],
   "outputs": [],
   "metadata": {}
  },
  {
   "cell_type": "markdown",
   "source": [
    "Pigs are also grouped into litters, which are another level, so we also create a `litter` unit. The 82 pigs were grouped in **22** litters."
   ],
   "metadata": {}
  },
  {
   "cell_type": "code",
   "execution_count": null,
   "source": [
    "litter = ts.Unit(\"Litter\", cardinality=22)  # 22 litters"
   ],
   "outputs": [],
   "metadata": {}
  },
  {
   "cell_type": "markdown",
   "source": [
    "Now we add the attributes that were recorded for each pig. We can attach them to the `pig` unit using `pig.ordinal` and `pig.numeric`.\n",
    "\n",
    "Ordinals are categorical variables with an ordering to them. Here, there are two ordinals: `vitamin_e` and `copper`. Each pig got separate amounts of each vitamin and mineral."
   ],
   "metadata": {}
  },
  {
   "cell_type": "code",
   "execution_count": null,
   "source": [
    "# Each pig has 1 instance of an ordinal Evit measure\n",
    "vitamin_e = pig.ordinal(\n",
    "    \"Evit\", order=[\"Evit000\", \"Evit100\", \"Evit200\"], number_of_instances=1\n",
    ")\n",
    "# Each pig has 1 instance of an ordinal Cu measure\n",
    "copper = pig.ordinal(\"Cu\", order=[\"Cu000\", \"Cu035\", \"Cu175\"], number_of_instances=1)"
   ],
   "outputs": [],
   "metadata": {}
  },
  {
   "cell_type": "markdown",
   "source": [
    "Numerics are either integers or floats, and aren't bounded. Here, the pig's `weight` and the amount of `feed` it consumes are measured each week. "
   ],
   "metadata": {}
  },
  {
   "cell_type": "code",
   "execution_count": null,
   "source": [
    "# Each pig has for each value of week 1 instance of a numeric Weight measure\n",
    "# Also: Each pig has 1 instance of a Weight measure corresponding to each week\n",
    "weight = pig.numeric(\"Weight\", number_of_instances=week)\n",
    "# Each pig has for each value of week 1 instance of a numeric Feed consumption measure\n",
    "feed = pig.numeric(\"Feed consumption\", number_of_instances=week)"
   ],
   "outputs": [],
   "metadata": {}
  },
  {
   "cell_type": "markdown",
   "source": [
    "## Conceptual and data measurement relationships\n",
    "\n",
    "Now that we have all of our variables, we can express further relationships between them.\n",
    "\n",
    "### Conceptual relationships\n",
    "\n",
    "We believe that the pigs should gain weight over time, so we express that time (`week`) causes `weight`."
   ],
   "metadata": {}
  },
  {
   "cell_type": "code",
   "execution_count": 1,
   "source": [
    "week.causes(weight)\n"
   ],
   "outputs": [
    {
     "output_type": "stream",
     "name": "stdout",
     "text": [
      "adding relationship <class 'tisane.variable.Has'>\n",
      "Adding\n",
      "adding relationship <class 'tisane.variable.Causes'>\n",
      "Adding\n",
      "adding relationship <class 'tisane.variable.Causes'>\n",
      "Adding\n",
      "adding relationship <class 'tisane.variable.Nests'>\n",
      "Adding\n",
      "adding relationship <class 'tisane.variable.Has'>\n",
      "Adding\n",
      "adding relationship <class 'tisane.variable.Has'>\n",
      "Adding\n",
      "adding relationship <class 'tisane.variable.Has'>\n",
      "Adding\n"
     ]
    },
    {
     "output_type": "display_data",
     "data": {
      "text/plain": [
       "<IPython.lib.display.IFrame at 0x7f871604cf40>"
      ],
      "text/html": [
       "\n",
       "        <iframe\n",
       "            width=\"100%\"\n",
       "            height=\"650\"\n",
       "            src=\"http://127.0.0.1:8050/\"\n",
       "            frameborder=\"0\"\n",
       "            allowfullscreen\n",
       "        ></iframe>\n",
       "        "
      ]
     },
     "metadata": {}
    },
    {
     "output_type": "stream",
     "name": "stdout",
     "text": [
      "read through {filename}\n",
      "Writing out path\n"
     ]
    }
   ],
   "metadata": {}
  },
  {
   "cell_type": "markdown",
   "source": [
    "### Data measurement relationships\n",
    "The pigs were also organized into litters, and we might expect that pigs in the same litter, sharing the same parents and genetics, will be more similar. So we add this relationship with `nests_within`."
   ],
   "metadata": {}
  },
  {
   "cell_type": "code",
   "execution_count": null,
   "source": [
    "pig.nests_within(litter)"
   ],
   "outputs": [],
   "metadata": {}
  },
  {
   "cell_type": "markdown",
   "source": [
    "## Specify the study design\n",
    "\n",
    "We can construct our study design using `tisane.Design`. We want to show that `week`, our **i**ndependent **v**ariable predicts `weight`.\n",
    "\n",
    "We also attach the data we collected to the design."
   ],
   "metadata": {}
  },
  {
   "cell_type": "code",
   "execution_count": null,
   "source": [
    "design = ts.Design(dv=weight, ivs=[week]).assign_data(df)"
   ],
   "outputs": [],
   "metadata": {}
  },
  {
   "cell_type": "markdown",
   "source": [
    "## Query Tisane to infer a statistical model\n",
    "\n",
    "Using the `design` specification, `tisane.infer_statistical_model_from_design` will find candidate statistical models to choose from. You can make your choices in the Tisane GUI, which will appear in the output of the following cell.\n",
    "\n",
    "(You can also launch the Tisane GUI in a regular browser window. Setting `jupyter=True` makes the GUI appear in the output of the cell.)"
   ],
   "metadata": {}
  },
  {
   "cell_type": "code",
   "execution_count": null,
   "source": [
    "ts.infer_statistical_model_from_design(design=design, jupyter=True)"
   ],
   "outputs": [],
   "metadata": {}
  },
  {
   "cell_type": "markdown",
   "source": [
    "## Using the GUI\n",
    "Look through each of the tabs. The tabs allow you to add additional independent variables, if Tisane detected they might be useful, as well as add clustering. On the fourth tab, after you pick the data distribution and link function that best fits your data, you can click on the `Generate Code` button, which will output a Python script called `model.py`.\n",
    "\n",
    "## Import model.py\n",
    "\n",
    "The script `model.py` should be in this folder! You can import it:"
   ],
   "metadata": {}
  },
  {
   "cell_type": "code",
   "execution_count": null,
   "source": [
    "import model"
   ],
   "outputs": [],
   "metadata": {}
  },
  {
   "cell_type": "markdown",
   "source": [
    "Note that if you re-generate the model in the GUI after you've already imported the model in the above cell, you will need to re-start the kernel by going to the main menu and choosing `Kernel > Restart`.\n",
    "\n",
    "## Fitting the model\n",
    "\n",
    "The function `model.fit_model` returns the fitted model, and also outputs statistics about the model's fit."
   ],
   "metadata": {}
  },
  {
   "cell_type": "code",
   "execution_count": null,
   "source": [
    "m = model.fit_model()"
   ],
   "outputs": [],
   "metadata": {}
  },
  {
   "cell_type": "markdown",
   "source": [
    "## Plotting the residuals\n",
    "\n",
    "To create a residuals plot, use the function `model.show_model_diagnostics`."
   ],
   "metadata": {}
  },
  {
   "cell_type": "code",
   "execution_count": null,
   "source": [
    "model.show_model_diagnostics(m)"
   ],
   "outputs": [],
   "metadata": {}
  }
 ],
 "metadata": {
  "kernelspec": {
   "display_name": "tisane2",
   "language": "python",
   "name": "tisane2"
  },
  "language_info": {
   "codemirror_mode": {
    "name": "ipython",
    "version": 3
   },
   "file_extension": ".py",
   "mimetype": "text/x-python",
   "name": "python",
   "nbconvert_exporter": "python",
   "pygments_lexer": "ipython3",
   "version": "3.8.2"
  }
 },
 "nbformat": 4,
 "nbformat_minor": 5
}