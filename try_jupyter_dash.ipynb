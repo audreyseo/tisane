{
 "cells": [
  {
   "cell_type": "code",
   "execution_count": 1,
   "id": "f567d4c3",
   "metadata": {},
   "outputs": [],
   "source": [
    "# from z3 import *\n",
    "from tisane.gui.example import start_gui, ExampleData"
   ]
  },
  {
   "cell_type": "code",
   "execution_count": 4,
   "id": "181b0c3d",
   "metadata": {},
   "outputs": [
    {
     "name": "stdout",
     "output_type": "stream",
     "text": [
      "/Users/audrey/github/tisane/tisane/gui/example_inputs/main_interaction_random_intercepts.json\n",
      "allIds: ['gui-components-unique-id-7', 'gui-components-unique-id-10', 'gui-components-unique-id-8', 'gui-components-unique-id-11']\n",
      "randomSlopeAddedIds: [], []\n"
     ]
    },
    {
     "data": {
      "text/html": [
       "\n",
       "        <iframe\n",
       "            width=\"100%\"\n",
       "            height=\"650\"\n",
       "            src=\"http://127.0.0.1:8050/\"\n",
       "            frameborder=\"0\"\n",
       "            allowfullscreen\n",
       "        ></iframe>\n",
       "        "
      ],
      "text/plain": [
       "<IPython.lib.display.IFrame at 0x7f935fd39e50>"
      ]
     },
     "metadata": {},
     "output_type": "display_data"
    },
    {
     "name": "stdout",
     "output_type": "stream",
     "text": [
      "New children: [Li('Measure_2'), Li('Measure_0'), Li('Measure_1'), Li('Time')]\n",
      "Continue callback: FalseNew children: []\n",
      "GaussianFamily: <class 'str'>\n",
      "\n",
      "{'GammaFamily': ['PowerLink', 'IdentityLink', 'LogLink'], 'TweedieFamily': ['PowerLink', 'IdentityLink', 'LogLink'], 'GaussianFamily': ['PowerLink', 'OPowerLink', 'NegativeBinomialLink', 'LogLogLink', 'IdentityLink', 'LogLink', 'LogitLink', 'ProbitLink', 'CLogLogLink'], 'PoissonFamily': ['LogLink', 'PowerLink', 'IdentityLink'], 'InverseGaussianFamily': ['IdentityLink', 'LogLink', 'PowerLink']}\n",
      "Raw output: {\n",
      "    \"main effects\": [\n",
      "        \"Measure_2\",\n",
      "        \"Measure_0\",\n",
      "        \"Measure_1\",\n",
      "        \"Time\"\n",
      "    ],\n",
      "    \"dependent variable\": \"Dependent_variable\",\n",
      "    \"interaction effects\": [],\n",
      "    \"random effects\": {\n",
      "        \"Unit\": {\n",
      "            \"random intercept\": {\n",
      "                \"groups\": \"Unit\"\n",
      "            }\n",
      "        },\n",
      "        \"Time\": {\n",
      "            \"random intercept\": {\n",
      "                \"groups\": \"Time\"\n",
      "            }\n",
      "        }\n",
      "    },\n",
      "    \"family\": \"GaussianFamily\",\n",
      "    \"link\": \"IdentityLink\"\n",
      "}\n",
      "[{'prop_id': 'tabs.active_tab', 'value': 'tab-1'}]\n",
      "[{'prop_id': 'tabs.active_tab', 'value': 'tab-1'}]\n",
      "tab-2, interaction-effects-progress: tabs, tab-1\n",
      "[{'prop_id': 'tabs.active_tab', 'value': 'tab-1'}]tab-3, random-effects-progress: tabs, tab-1\n",
      "\n",
      "tab-4, family-link-functions-progress: tabs, tab-1[{'prop_id': 'tabs.active_tab', 'value': 'tab-1'}]\n",
      "\n"
     ]
    }
   ],
   "source": [
    "start_gui(ExampleData.main_interaction_random_intercepts, jupyter=True)"
   ]
  },
  {
   "cell_type": "code",
   "execution_count": 22,
   "id": "54d0c828",
   "metadata": {},
   "outputs": [
    {
     "data": {
      "text/plain": [
       "['SetUp',\n",
       " 'StatisticalModel',\n",
       " 'Unit',\n",
       " '__builtins__',\n",
       " '__cached__',\n",
       " '__doc__',\n",
       " '__file__',\n",
       " '__loader__',\n",
       " '__name__',\n",
       " '__package__',\n",
       " '__path__',\n",
       " '__spec__',\n",
       " 'gui']"
      ]
     },
     "execution_count": 22,
     "metadata": {},
     "output_type": "execute_result"
    }
   ],
   "source": [
    "dir(ts)"
   ]
  },
  {
   "cell_type": "code",
   "execution_count": 16,
   "id": "3e6babf3",
   "metadata": {},
   "outputs": [
    {
     "ename": "ModuleNotFoundError",
     "evalue": "No module named 'z3py'",
     "output_type": "error",
     "traceback": [
      "\u001b[0;31m---------------------------------------------------------------------------\u001b[0m",
      "\u001b[0;31mModuleNotFoundError\u001b[0m                       Traceback (most recent call last)",
      "\u001b[0;32m/var/folders/c6/w4rd131d7r5_yd0w7w_rbdh80000gn/T/ipykernel_60623/3671994204.py\u001b[0m in \u001b[0;36m<module>\u001b[0;34m\u001b[0m\n\u001b[0;32m----> 1\u001b[0;31m \u001b[0;32mimport\u001b[0m \u001b[0mz3py\u001b[0m \u001b[0;32mas\u001b[0m \u001b[0mz3\u001b[0m\u001b[0;34m\u001b[0m\u001b[0;34m\u001b[0m\u001b[0m\n\u001b[0m",
      "\u001b[0;31mModuleNotFoundError\u001b[0m: No module named 'z3py'"
     ]
    }
   ],
   "source": []
  },
  {
   "cell_type": "code",
   "execution_count": null,
   "id": "add47162",
   "metadata": {},
   "outputs": [],
   "source": []
  }
 ],
 "metadata": {
  "kernelspec": {
   "display_name": "tisane",
   "language": "python",
   "name": "tisane"
  },
  "language_info": {
   "codemirror_mode": {
    "name": "ipython",
    "version": 3
   },
   "file_extension": ".py",
   "mimetype": "text/x-python",
   "name": "python",
   "nbconvert_exporter": "python",
   "pygments_lexer": "ipython3",
   "version": "3.8.3"
  }
 },
 "nbformat": 4,
 "nbformat_minor": 5
}
